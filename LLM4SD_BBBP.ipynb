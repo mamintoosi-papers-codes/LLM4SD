{
 "cells": [
  {
   "cell_type": "code",
   "execution_count": null,
   "id": "fb9b8df8",
   "metadata": {},
   "outputs": [],
   "source": []
  },
  {
   "cell_type": "markdown",
   "id": "76169ab1",
   "metadata": {},
   "source": []
  },
  {
   "cell_type": "code",
   "execution_count": null,
   "id": "15689642",
   "metadata": {},
   "outputs": [],
   "source": [
    "# Auto-setup when running on Google Colab\n",
    "import os\n",
    "if 'google.colab' in str(get_ipython()) and not os.path.exists('/content/LLM4SD'):\n",
    "    !git clone -q https://github.com/mamintoosi-papers-codes/LLM4SD.git /content/LLM4SD\n",
    "    # !pip --quiet install -r /content/LLM4SD/requirements.txt\n",
    "    %cd LLM4SD\n",
    "    !curl -fsSL https://ollama.com/install.sh | sh  # نصب Ollama\n",
    "    !ollama pull falcon:7b  # دانلود مدل\n",
    "    !ollama run falcon:7b \"چرا آسمان آبی است؟\"  # اجرای مدل"
   ]
  },
  {
   "cell_type": "code",
   "execution_count": 14,
   "id": "a6ca9e54",
   "metadata": {},
   "outputs": [],
   "source": [
    "# !pip install rdkit\n",
    "# !pip install mordred"
   ]
  },
  {
   "cell_type": "code",
   "execution_count": 1,
   "id": "d69f11d9",
   "metadata": {},
   "outputs": [
    {
     "name": "stdout",
     "output_type": "stream",
     "text": [
      "Processing Step 1: Generating Prompt files...\n"
     ]
    }
   ],
   "source": [
    "# **Step 1:** Generate prior knowledge and data knowledge prompt files\n",
    "print(\"Processing Step 1: Generating Prompt files...\")\n",
    "%run create_prompt.py --task synthesize"
   ]
  },
  {
   "cell_type": "code",
   "execution_count": 2,
   "id": "b1d404d3",
   "metadata": {},
   "outputs": [],
   "source": [
    "%run create_prompt.py --task inference"
   ]
  },
  {
   "cell_type": "code",
   "execution_count": 1,
   "id": "ab74f455",
   "metadata": {},
   "outputs": [
    {
     "name": "stdout",
     "output_type": "stream",
     "text": [
      "Processing Step 2: LLM for Scientific Synthesis\n"
     ]
    },
    {
     "name": "stderr",
     "output_type": "stream",
     "text": [
      "c:\\Users\\m.amintoosi\\.conda\\envs\\pth-gpu\\lib\\site-packages\\huggingface_hub\\file_download.py:896: FutureWarning: `resume_download` is deprecated and will be removed in version 1.0.0. Downloads always resume when possible. If you want to force a new download, use `force_download=True`.\n",
      "  warnings.warn(\n",
      "c:\\Users\\m.amintoosi\\.conda\\envs\\pth-gpu\\lib\\site-packages\\huggingface_hub\\file_download.py:896: FutureWarning: `resume_download` is deprecated and will be removed in version 1.0.0. Downloads always resume when possible. If you want to force a new download, use `force_download=True`.\n",
      "  warnings.warn(\n",
      "\n",
      "WARNING: You are currently loading Falcon using legacy code contained in the model repository. Falcon has now been fully ported into the Hugging Face transformers library. For the most up-to-date and high-performance version of the Falcon model code, please update to the latest version of transformers and then load the model without the trust_remote_code=True argument.\n",
      "\n"
     ]
    },
    {
     "data": {
      "application/vnd.jupyter.widget-view+json": {
       "model_id": "ae5945df05be4cdb81b2cec69960483c",
       "version_major": 2,
       "version_minor": 0
      },
      "text/plain": [
       "Loading checkpoint shards:   0%|          | 0/2 [00:00<?, ?it/s]"
      ]
     },
     "metadata": {},
     "output_type": "display_data"
    },
    {
     "name": "stderr",
     "output_type": "stream",
     "text": [
      "c:\\Users\\m.amintoosi\\.conda\\envs\\pth-gpu\\lib\\site-packages\\transformers\\generation\\configuration_utils.py:392: UserWarning: `do_sample` is set to `False`. However, `temperature` is set to `0.5` -- this flag is only used in sample-based generation modes. You should set `do_sample=True` or unset `temperature`.\n",
      "  warnings.warn(\n",
      "Setting `pad_token_id` to `eos_token_id`:11 for open-end generation.\n"
     ]
    },
    {
     "name": "stdout",
     "output_type": "stream",
     "text": [
      "Extracting bbbp_small dataset prior knowledge prompt ....\n",
      "Assumed you are an experienced chemist. Please come up with 20 rules that you think are very important to predict if a molecule is blood brain barrier permeable (BBBP). Each rule is either about the structure or property of molecules. Each rule starts with 'Calculate....' and don't explain, be short and within 5 words.\n",
      "\n",
      "Assumed you are an experienced chemist. Please come up with 20 rules that you think are very important to predict if a molecule is blood brain barrier permeable (BBBP). Each rule is either about the structure or property of molecules. Each rule starts with 'Calculate....' and don't explain, be short and within 5 words.\n",
      "1. Calculate log P: Logarithm of partition coefficient between blood and brain.\n",
      "2. Calculate log D: Logarithm of partition coefficient between drug and blood.\n",
      "3. Calculate log P: Logarithm of partition coefficient between blood and brain.\n",
      "4. Calculate log P: Logarithm of partition coefficient between blood and brain.\n",
      "5. Calculate log P: Logarithm of partition coefficient between blood and brain.\n",
      "6. Calculate log P: Logarithm of partition coefficient between blood and brain.\n",
      "7. Calculate log P: Logarithm of partition coefficient between blood and brain.\n",
      "8. Calculate log P: Logarithm of partition coefficient between blood and brain.\n",
      "9. Calculate log P: Logarithm of partition coefficient between blood and brain.\n",
      "10. Calculate log P: Logarithm of partition coefficient between blood and brain.\n",
      "11. Calculate log P: Logarithm of partition coefficient between blood and brain.\n",
      "12. Calculate log P: Logarithm of partition coefficient between blood and brain.\n",
      "13. Calculate log P: Logarithm of partition coefficient between blood and brain.\n",
      "14. Calculate log P: Logarithm of partition coefficient between blood and brain.\n",
      "15. Calculate log P: Logarithm of partition coefficient between blood and brain.\n",
      "16. Calculate log P: Logarithm of partition coefficient between blood and brain.\n",
      "17. Calculate log P: Logarithm of partition coefficient between blood and brain.\n",
      "18. Calculate log P: Logarithm of partition coefficient between blood and brain.\n",
      "19. Calculate log P: Logarithm of partition coefficient between blood and brain.\n",
      "20. Calculate log P: Logarithm of partition coefficient between blood and brain.\n",
      "Synthesize/Time elapsed: 104.15793132781982 seconds\n"
     ]
    }
   ],
   "source": [
    "# **Step 2:** Knowledge synthesis for BBBP dataset\n",
    "print(\"Processing Step 2: LLM for Scientific Synthesis\")\n",
    "%run synthesize.py --dataset bbbp --subtask \"\" --model falcon-7b --output_folder \"synthesize_model_response\""
   ]
  },
  {
   "cell_type": "code",
   "execution_count": 4,
   "id": "4fc6446b",
   "metadata": {},
   "outputs": [
    {
     "name": "stdout",
     "output_type": "stream",
     "text": [
      "Processing Step 2: LLM for Scientific Synthesis\n",
      "Extracting bbbp_small dataset prior knowledge prompt ....\n",
      "Querying Ollama Model: falcon-7b\n",
      "1. Identify : Calculate log P.\n",
      "2. Assess polar/nonpolar nature : Log P (polar).\n",
      "3. Estimate bond lengths : Log V (nonpolar).\n",
      "4. Evaluate aromaticity : Estimate number of electron groups around (aromatic).\n",
      "5. Assess symmetry : Check for symmetrical about axis (symmetry).\n",
      "6. Calculate electronegativity : Estimate of chemical bond strength.\n",
      "7. Estimate electrostatic potential : Calculate electrostatic potential of a molecule.\n",
      "8. Assess steric hindrance : Estimate steric hindrance of a molecule.\n",
      "9. Estimate steric hindrance : Log S (non-polar).\n",
      "10. Assess symmetry : Check for symmetrical about axis (symmetry).\n",
      "11. Calculate electronegativity : Estimate of chemical bond strength.\n",
      "12. Assess steric hindrance : Estimate steric hindrance of a molecule.\n",
      "13. Estimate steric hindrance : Check for symmetry about axis.\n",
      "14. Calculate electronegativity : Estimate chemical bond strength.\n",
      "15. Assess electrostatic potential : Estimate electrostatic potential of a molecule.\n",
      "16. Calculate electrostatic potential : Estimate electrostatic potential of a molecule.\n",
      "17. Evaluate symmetry : Check symmetry about axis.\n",
      "18. Evaluate symmetry : Check symmetry about axis.\n",
      "19. Evaluate symmetry : Check symmetry about axis.\n",
      "User \n",
      "Synthesize/Time elapsed: 2.6314167976379395 seconds\n"
     ]
    }
   ],
   "source": [
    "# **Step 2:** Knowledge synthesis for BBBP dataset\n",
    "print(\"Processing Step 2: LLM for Scientific Synthesis\")\n",
    "%run synthesize_local.py --dataset bbbp --subtask \"\" --model falcon-7b --output_folder \"synthesize_model_response\""
   ]
  },
  {
   "cell_type": "code",
   "execution_count": 5,
   "id": "8b719bd4",
   "metadata": {},
   "outputs": [
    {
     "name": "stdout",
     "output_type": "stream",
     "text": [
      "Processing Step 3: LLM for Scientific Inference\n",
      "Extracting bbbp dataset inference prompt...\n",
      "Starting inference using Ollama's local model...\n",
      "Querying Ollama Model: falcon-7b\n",
      "1) If the structure of the molecule contains a BBBP pair, it is more likely to be BBBP. \n",
      "2) If the first atom in the molecule is a BBBP atom, it is more likely to be BBBP. \n",
      "3) If the number of BBBP atoms in the molecule is greater than the number of non-BBBP atoms, it is more likely to be BBBP.\n",
      "User \n",
      "✅ Inference completed! Response saved to: inference_model_response\\falcon-7b\\bbbp\\falcon-7b_inference_response.txt\n",
      "Inference/Time elapsed: 1.135082721710205 seconds\n"
     ]
    }
   ],
   "source": [
    "# **Step 3:** Knowledge inference for BBBP dataset\n",
    "print(\"Processing Step 3: LLM for Scientific Inference\")\n",
    "# %run inference_local.py --dataset bbbp --subtask \"\" --model falcon-7b --list_num 30 --output_folder \"inference_model_response\"\n",
    "%run inference_local.py --dataset bbbp --model falcon-7b --output_folder \"inference_model_response\"\n"
   ]
  },
  {
   "cell_type": "code",
   "execution_count": 6,
   "id": "0b6f38f4",
   "metadata": {},
   "outputs": [
    {
     "name": "stdout",
     "output_type": "stream",
     "text": [
      "Processing Step 4: Summarizing Rules\n",
      "🔹 Step 4: Summarizing Inference Rules Locally using Gemma 3:27B...\n",
      "✅ Loaded 4 inferred rules from inference_model_response\\falcon-7b\\bbbp\\falcon-7b_inference_response.txt\n",
      "✅ Summarized rules:\n",
      "## Concise Summary of BBBP Inference Rules:\n",
      "\n",
      "These rules suggest a molecule is more likely to be BBBP (likely referring to a specific property or classification) based on its atomic composition and structure. The key indicators are:\n",
      "\n",
      "* **BBBP Pair Presence:** The existence of a BBBP pair within the molecular structure increases likelihood.\n",
      "* **BBBP Atom Dominance:** A higher proportion of BBBP atoms compared to non-BBBP atoms increases likelihood.\n",
      "* **Initiating BBBP Atom:** The presence of a BBBP atom as the first atom in the molecule increases likelihood.\n",
      "\n",
      "\n",
      "\n",
      "**Note:** The term \"BBBP\" remains undefined without further context. This summary assumes it represents a specific molecular property or classification being predicted. These rules essentially describe compositional/structural features positively correlated with that property.\n",
      "✅ Summarization completed! Results saved to: summarized_inference_rules\\falcon-7b\\bbbp\\falcon-7b_summarized_rules.txt\n",
      "Summarization/Time elapsed: 333.0109028816223 seconds\n"
     ]
    }
   ],
   "source": [
    "# **Step 4:** Summarizing inference rules using GPT-4\n",
    "print(\"Processing Step 4: Summarizing Rules\")\n",
    "# API_KEY = \"\"  # Set your OpenAI API Key before running\n",
    "# %run summarize_rules.py --input_model_folder falcon-7b --dataset bbbp --subtask \"\" --list_num 30 --api_key $API_KEY --output_folder \"summarized_inference_rules\"\n",
    "\n",
    "%run summarize_rules_local.py --input_model_folder falcon-7b --dataset bbbp --output_folder \"summarized_inference_rules\"\n"
   ]
  },
  {
   "cell_type": "code",
   "execution_count": null,
   "id": "fc9397c4",
   "metadata": {},
   "outputs": [],
   "source": [
    "# **Step 5:** Interpretable model training and evaluation\n",
    "print(\"Processing Step 5: Interpretable Model Training and Evaluation\")\n",
    "# %run code_gen_and_eval.py --dataset bbbp --subtask \"\" --model falcon-7b --knowledge_type \"synthesize\" --api_key $API_KEY --output_dir \"llm4sd_results\" --code_gen_folder \"llm4sd_code_generation\"\n",
    "%run code_gen_and_eval_local.py --dataset bbbp --subtask \"\" --model falcon-7b --knowledge_type \"synthesize\" --output_dir \"llm4sd_results\" --code_gen_folder \"llm4sd_code_generation\"\n",
    "\n",
    "# [20:18:10] Molecule does not have explicit Hs. Consider calling AddHs()"
   ]
  },
  {
   "cell_type": "code",
   "execution_count": null,
   "id": "c1fe505a",
   "metadata": {},
   "outputs": [],
   "source": [
    "# %run code_gen_and_eval.py --dataset bbbp --subtask \"\" --model falcon-7b --knowledge_type \"inference\" --list_num 30 --api_key $API_KEY --output_dir \"llm4sd_results\" --code_gen_folder \"llm4sd_code_generation\"\n",
    "%run code_gen_and_eval_local.py --dataset bbbp --subtask \"\" --model falcon-7b --knowledge_type \"inference\" --output_dir \"llm4sd_results\" --code_gen_folder \"llm4sd_code_generation\"\n",
    "\n",
    "# [18:02:28] WARNING: not removing hydrogen atom without neighbors\n",
    "# Error in function rule345678_num_carbons: module 'rdkit.Chem.Descriptors' has no attribute 'NumCarbonAtoms'\n",
    "# Attempting to rectify the code..."
   ]
  },
  {
   "cell_type": "code",
   "execution_count": 2,
   "id": "874e215b",
   "metadata": {},
   "outputs": [
    {
     "ename": "SyntaxError",
     "evalue": "unterminated string literal (detected at line 133) (<string>, line 133)",
     "output_type": "error",
     "traceback": [
      "\u001b[1;36m  File \u001b[1;32m<string>:133\u001b[1;36m\u001b[0m\n\u001b[1;33m    \"\"\"Estimates LogS using RDKit's descriptor calculation.  This is a basic attempt at LogS\u001b[0m\n\u001b[1;37m                                 ^\u001b[0m\n\u001b[1;31mSyntaxError\u001b[0m\u001b[1;31m:\u001b[0m unterminated string literal (detected at line 133)\n"
     ]
    },
    {
     "name": "stdout",
     "output_type": "stream",
     "text": [
      "Processing completed for BBBP dataset.\n"
     ]
    }
   ],
   "source": [
    "%run code_gen_and_eval_local.py --dataset bbbp --subtask \"\" --model falcon-7b --knowledge_type \"all\" --output_dir \"llm4sd_results\" --code_gen_folder \"llm4sd_code_generation\"\n",
    "print(\"Processing completed for BBBP dataset.\")"
   ]
  }
 ],
 "metadata": {
  "kernelspec": {
   "display_name": "Python 3",
   "language": "python",
   "name": "python3"
  },
  "language_info": {
   "codemirror_mode": {
    "name": "ipython",
    "version": 3
   },
   "file_extension": ".py",
   "mimetype": "text/x-python",
   "name": "python",
   "nbconvert_exporter": "python",
   "pygments_lexer": "ipython3",
   "version": "3.10.16"
  }
 },
 "nbformat": 4,
 "nbformat_minor": 5
}

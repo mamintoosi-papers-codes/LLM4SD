{
 "cells": [
  {
   "cell_type": "code",
   "execution_count": null,
   "id": "fb9b8df8",
   "metadata": {},
   "outputs": [],
   "source": []
  },
  {
   "cell_type": "markdown",
   "id": "76169ab1",
   "metadata": {},
   "source": []
  },
  {
   "cell_type": "code",
   "execution_count": null,
   "id": "15689642",
   "metadata": {},
   "outputs": [],
   "source": [
    "# Auto-setup when running on Google Colab\n",
    "import os\n",
    "if 'google.colab' in str(get_ipython()) and not os.path.exists('/content/LLM4SD'):\n",
    "    !git clone -q https://github.com/mamintoosi-papers-codes/LLM4SD.git /content/LLM4SD\n",
    "    # !pip --quiet install -r /content/LLM4SD/requirements.txt\n",
    "    %cd LLM4SD\n",
    "    !curl -fsSL https://ollama.com/install.sh | sh  # نصب Ollama\n",
    "    !ollama pull mistral:7b  # دانلود مدل\n",
    "    !ollama run mistral:7b \"چرا آسمان آبی است؟\"  # اجرای مدل"
   ]
  },
  {
   "cell_type": "code",
   "execution_count": null,
   "id": "a6ca9e54",
   "metadata": {},
   "outputs": [],
   "source": [
    "# !pip install rdkit\n",
    "# !pip install mordred\n"
   ]
  },
  {
   "cell_type": "code",
   "execution_count": null,
   "id": "7fa19826",
   "metadata": {},
   "outputs": [],
   "source": [
    "model_name = \"mistral:7b\" "
   ]
  },
  {
   "cell_type": "code",
   "execution_count": null,
   "id": "d69f11d9",
   "metadata": {},
   "outputs": [],
   "source": [
    "# **Step 1:** Generate prior knowledge and data knowledge prompt files\n",
    "print(\"Processing Step 1: Generating Prompt files...\")\n",
    "%run create_prompt.py --task synthesize"
   ]
  },
  {
   "cell_type": "code",
   "execution_count": null,
   "id": "b1d404d3",
   "metadata": {},
   "outputs": [],
   "source": [
    "%run create_prompt.py --task inference"
   ]
  },
  {
   "cell_type": "code",
   "execution_count": null,
   "id": "4fc6446b",
   "metadata": {},
   "outputs": [],
   "source": [
    "# **Step 2:** Knowledge synthesis for BBBP dataset\n",
    "print(\"Processing Step 2: LLM for Scientific Synthesis\")\n",
    "%run synthesize_local.py --dataset bbbp --subtask \"\" --model {model_name}  --output_folder \"synthesize_model_response\""
   ]
  },
  {
   "cell_type": "code",
   "execution_count": null,
   "id": "8b719bd4",
   "metadata": {},
   "outputs": [],
   "source": [
    "# **Step 3:** Knowledge inference for BBBP dataset\n",
    "print(\"Processing Step 3: LLM for Scientific Inference\")\n",
    "%run inference_local.py --dataset bbbp --model {model_name}  --output_folder \"inference_model_response\""
   ]
  },
  {
   "cell_type": "code",
   "execution_count": null,
   "id": "0b6f38f4",
   "metadata": {},
   "outputs": [],
   "source": [
    "# **Step 4:** Summarizing inference rules \n",
    "print(\"Processing Step 4: Summarizing Rules\")\n",
    "%run summarize_rules_local.py --input_model_folder {model_name}  --dataset bbbp --output_folder \"summarized_inference_rules\""
   ]
  },
  {
   "cell_type": "code",
   "execution_count": null,
   "id": "fc9397c4",
   "metadata": {},
   "outputs": [],
   "source": [
    "# **Step 5:** Interpretable model training and evaluation\n",
    "print(\"Processing Step 5: Interpretable Model Training and Evaluation\")\n",
    "%run code_gen_and_eval_local.py --dataset bbbp --subtask \"\" --model {model_name}  --knowledge_type \"synthesize\" --output_dir \"llm4sd_results\" --code_gen_folder \"llm4sd_code_generation\"\n",
    "\n",
    "# [20:18:10] Molecule does not have explicit Hs. Consider calling AddHs()"
   ]
  },
  {
   "cell_type": "code",
   "execution_count": null,
   "id": "c1fe505a",
   "metadata": {},
   "outputs": [],
   "source": [
    "# %run code_gen_and_eval.py --dataset bbbp --subtask \"\" --model {model_name}  --knowledge_type \"inference\" --list_num 30 --api_key $API_KEY --output_dir \"llm4sd_results\" --code_gen_folder \"llm4sd_code_generation\"\n",
    "%run code_gen_and_eval_local.py --dataset bbbp --subtask \"\" --model {model_name}  --knowledge_type \"inference\" --output_dir \"llm4sd_results\" --code_gen_folder \"llm4sd_code_generation\"\n",
    "\n",
    "# [18:02:28] WARNING: not removing hydrogen atom without neighbors\n",
    "# Error in function rule345678_num_carbons: module 'rdkit.Chem.Descriptors' has no attribute 'NumCarbonAtoms'\n",
    "# Attempting to rectify the code..."
   ]
  },
  {
   "cell_type": "code",
   "execution_count": null,
   "id": "874e215b",
   "metadata": {},
   "outputs": [],
   "source": [
    "%run code_gen_and_eval_local.py --dataset bbbp --subtask \"\" --model {model_name}  --knowledge_type \"all\" --output_dir \"llm4sd_results\" --code_gen_folder \"llm4sd_code_generation\"\n",
    "print(\"Processing completed for BBBP dataset.\")"
   ]
  }
 ],
 "metadata": {
  "kernelspec": {
   "display_name": "pth",
   "language": "python",
   "name": "python3"
  },
  "language_info": {
   "codemirror_mode": {
    "name": "ipython",
    "version": 3
   },
   "file_extension": ".py",
   "mimetype": "text/x-python",
   "name": "python",
   "nbconvert_exporter": "python",
   "pygments_lexer": "ipython3",
   "version": "3.10.14"
  }
 },
 "nbformat": 4,
 "nbformat_minor": 5
}

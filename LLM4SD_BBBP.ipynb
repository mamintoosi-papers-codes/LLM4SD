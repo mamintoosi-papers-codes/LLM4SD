{
 "cells": [
  {
   "cell_type": "code",
   "execution_count": null,
   "id": "fb9b8df8",
   "metadata": {},
   "outputs": [],
   "source": []
  },
  {
   "cell_type": "markdown",
   "id": "76169ab1",
   "metadata": {},
   "source": []
  },
  {
   "cell_type": "code",
   "execution_count": null,
   "id": "15689642",
   "metadata": {},
   "outputs": [],
   "source": [
    "# Auto-setup when running on Google Colab\n",
    "import os\n",
    "if 'google.colab' in str(get_ipython()) and not os.path.exists('/content/LLM4SD'):\n",
    "    !git clone -q https://github.com/mamintoosi-papers-codes/LLM4SD.git /content/LLM4SD\n",
    "    # !pip --quiet install -r /content/LLM4SD/requirements.txt\n",
    "    %cd LLM4SD\n",
    "    !curl -fsSL https://ollama.com/install.sh | sh  # نصب Ollama\n",
    "    !ollama pull falcon:7b  # دانلود مدل\n",
    "    !ollama run falcon:7b \"چرا آسمان آبی است؟\"  # اجرای مدل"
   ]
  },
  {
   "cell_type": "code",
   "execution_count": 14,
   "id": "a6ca9e54",
   "metadata": {},
   "outputs": [],
   "source": [
    "# !pip install rdkit\n",
    "# !pip install mordred"
   ]
  },
  {
   "cell_type": "code",
   "execution_count": 1,
   "id": "d69f11d9",
   "metadata": {},
   "outputs": [
    {
     "name": "stdout",
     "output_type": "stream",
     "text": [
      "Processing Step 1: Generating Prompt files...\n"
     ]
    }
   ],
   "source": [
    "# **Step 1:** Generate prior knowledge and data knowledge prompt files\n",
    "print(\"Processing Step 1: Generating Prompt files...\")\n",
    "%run create_prompt.py --task synthesize"
   ]
  },
  {
   "cell_type": "code",
   "execution_count": 2,
   "id": "b1d404d3",
   "metadata": {},
   "outputs": [],
   "source": [
    "%run create_prompt.py --task inference"
   ]
  },
  {
   "cell_type": "code",
   "execution_count": 1,
   "id": "ab74f455",
   "metadata": {},
   "outputs": [
    {
     "name": "stdout",
     "output_type": "stream",
     "text": [
      "Processing Step 2: LLM for Scientific Synthesis\n"
     ]
    },
    {
     "name": "stderr",
     "output_type": "stream",
     "text": [
      "c:\\Users\\m.amintoosi\\.conda\\envs\\pth-gpu\\lib\\site-packages\\huggingface_hub\\file_download.py:896: FutureWarning: `resume_download` is deprecated and will be removed in version 1.0.0. Downloads always resume when possible. If you want to force a new download, use `force_download=True`.\n",
      "  warnings.warn(\n",
      "c:\\Users\\m.amintoosi\\.conda\\envs\\pth-gpu\\lib\\site-packages\\huggingface_hub\\file_download.py:896: FutureWarning: `resume_download` is deprecated and will be removed in version 1.0.0. Downloads always resume when possible. If you want to force a new download, use `force_download=True`.\n",
      "  warnings.warn(\n",
      "\n",
      "WARNING: You are currently loading Falcon using legacy code contained in the model repository. Falcon has now been fully ported into the Hugging Face transformers library. For the most up-to-date and high-performance version of the Falcon model code, please update to the latest version of transformers and then load the model without the trust_remote_code=True argument.\n",
      "\n"
     ]
    },
    {
     "data": {
      "application/vnd.jupyter.widget-view+json": {
       "model_id": "ae5945df05be4cdb81b2cec69960483c",
       "version_major": 2,
       "version_minor": 0
      },
      "text/plain": [
       "Loading checkpoint shards:   0%|          | 0/2 [00:00<?, ?it/s]"
      ]
     },
     "metadata": {},
     "output_type": "display_data"
    },
    {
     "name": "stderr",
     "output_type": "stream",
     "text": [
      "c:\\Users\\m.amintoosi\\.conda\\envs\\pth-gpu\\lib\\site-packages\\transformers\\generation\\configuration_utils.py:392: UserWarning: `do_sample` is set to `False`. However, `temperature` is set to `0.5` -- this flag is only used in sample-based generation modes. You should set `do_sample=True` or unset `temperature`.\n",
      "  warnings.warn(\n",
      "Setting `pad_token_id` to `eos_token_id`:11 for open-end generation.\n"
     ]
    },
    {
     "name": "stdout",
     "output_type": "stream",
     "text": [
      "Extracting bbbp_small dataset prior knowledge prompt ....\n",
      "Assumed you are an experienced chemist. Please come up with 20 rules that you think are very important to predict if a molecule is blood brain barrier permeable (BBBP). Each rule is either about the structure or property of molecules. Each rule starts with 'Calculate....' and don't explain, be short and within 5 words.\n",
      "\n",
      "Assumed you are an experienced chemist. Please come up with 20 rules that you think are very important to predict if a molecule is blood brain barrier permeable (BBBP). Each rule is either about the structure or property of molecules. Each rule starts with 'Calculate....' and don't explain, be short and within 5 words.\n",
      "1. Calculate log P: Logarithm of partition coefficient between blood and brain.\n",
      "2. Calculate log D: Logarithm of partition coefficient between drug and blood.\n",
      "3. Calculate log P: Logarithm of partition coefficient between blood and brain.\n",
      "4. Calculate log P: Logarithm of partition coefficient between blood and brain.\n",
      "5. Calculate log P: Logarithm of partition coefficient between blood and brain.\n",
      "6. Calculate log P: Logarithm of partition coefficient between blood and brain.\n",
      "7. Calculate log P: Logarithm of partition coefficient between blood and brain.\n",
      "8. Calculate log P: Logarithm of partition coefficient between blood and brain.\n",
      "9. Calculate log P: Logarithm of partition coefficient between blood and brain.\n",
      "10. Calculate log P: Logarithm of partition coefficient between blood and brain.\n",
      "11. Calculate log P: Logarithm of partition coefficient between blood and brain.\n",
      "12. Calculate log P: Logarithm of partition coefficient between blood and brain.\n",
      "13. Calculate log P: Logarithm of partition coefficient between blood and brain.\n",
      "14. Calculate log P: Logarithm of partition coefficient between blood and brain.\n",
      "15. Calculate log P: Logarithm of partition coefficient between blood and brain.\n",
      "16. Calculate log P: Logarithm of partition coefficient between blood and brain.\n",
      "17. Calculate log P: Logarithm of partition coefficient between blood and brain.\n",
      "18. Calculate log P: Logarithm of partition coefficient between blood and brain.\n",
      "19. Calculate log P: Logarithm of partition coefficient between blood and brain.\n",
      "20. Calculate log P: Logarithm of partition coefficient between blood and brain.\n",
      "Synthesize/Time elapsed: 104.15793132781982 seconds\n"
     ]
    }
   ],
   "source": [
    "# **Step 2:** Knowledge synthesis for BBBP dataset\n",
    "print(\"Processing Step 2: LLM for Scientific Synthesis\")\n",
    "%run synthesize.py --dataset bbbp --subtask \"\" --model falcon-7b --output_folder \"synthesize_model_response\""
   ]
  },
  {
   "cell_type": "code",
   "execution_count": 2,
   "id": "4fc6446b",
   "metadata": {},
   "outputs": [
    {
     "name": "stdout",
     "output_type": "stream",
     "text": [
      "Processing Step 2: LLM for Scientific Synthesis\n",
      "Extracting bbbp_small dataset prior knowledge prompt ....\n",
      "Querying Ollama Model: falcon-7b\n",
      "1. Calculate log P: Logarithm of partitioning coefficient.\n",
      "2. Estimate BB: The expected BB value of the molecule based on its structure.\n",
      "3. Calculate lipophilic %: The proportion of polar and non-polar atoms in the molecule.\n",
      "4. Estimate pol: Calculate the polar index of the molecule.\n",
      "5. Calculate size: Estimate the size of the molecule.\n",
      "6. Calculate volume: Estimate the volume of the molecule.\n",
      "7. Estimate pol: Calculate the polar index of the molecule.\n",
      "8. Estimate BB: Estimate the BB value of the molecule based on its structure.\n",
      "9. Estimate lipo: Estimate the lipophilic content of the molecule.\n",
      "10. Evaluate NPS (nonpolar): Estimate the nonpolar nature of the molecule.\n",
      "11. Estimate BB: Estimate the BB value of the molecule based on its structure.\n",
      "12. Estimate pol: Calculate the polar index of the molecule.\n",
      "13. Estimate BB: Estimate the BB value of the molecule based on its structure.\n",
      "14. Estimate BB: Estimate the BB value of the molecule based on its structure.\n",
      "15. Estimate lipo: Estimate the lipophilic content of the molecule.\n",
      "16. Estimate pol: Calculate the polar index of the molecule.\n",
      "17. Estimate BB: Estimate the BB value of the molecule based on its structure.\n",
      "18. Estimate lipo: Estimate the lipophilic content of the molecule.\n",
      "19. Estimate pol: Calculate the polar index of the molecule.\n",
      "20. Calculate lipo: Estimate the lipophilic content of the molecule.\n",
      "User \n",
      "Synthesize/Time elapsed: 15.044968128204346 seconds\n"
     ]
    }
   ],
   "source": [
    "# **Step 2:** Knowledge synthesis for BBBP dataset\n",
    "print(\"Processing Step 2: LLM for Scientific Synthesis\")\n",
    "%run synthesize_local.py --dataset bbbp --subtask \"\" --model falcon-7b --output_folder \"synthesize_model_response\""
   ]
  },
  {
   "cell_type": "code",
   "execution_count": 2,
   "id": "8b719bd4",
   "metadata": {},
   "outputs": [
    {
     "name": "stdout",
     "output_type": "stream",
     "text": [
      "Processing Step 3: LLM for Scientific Inference\n",
      "Extracting bbbp dataset inference prompt...\n",
      "Starting inference using Ollama's local model...\n",
      "Querying Ollama Model: falcon-7b\n",
      "1) If the number of atoms of Oxygen (O) in the molecule is greater than the number of the atom of Bisphenol (B) in the molecule, then the probability that the molecule is BBBP is greater than 0.9.\n",
      "2) If the number of atoms of Bisphenol (B) in the molecule is greater than the number of the atoms of Oxygen (O) in the molecule, then the probability that the molecule is BBBP is greater than 0.9.\n",
      "3) If the number of carbon atoms (C) in the molecule is greater than the number of Oxygen (O) atoms, then the probability that the molecule is BBBP is greater than 0.9.\n",
      "\n",
      "✅ Inference completed! Response saved to: inference_model_response\\falcon-7b\\bbbp\\falcon-7b_inference_response.txt\n",
      "Inference/Time elapsed: 3.765505075454712 seconds\n"
     ]
    }
   ],
   "source": [
    "# **Step 3:** Knowledge inference for BBBP dataset\n",
    "print(\"Processing Step 3: LLM for Scientific Inference\")\n",
    "# %run inference_local.py --dataset bbbp --subtask \"\" --model falcon-7b --list_num 30 --output_folder \"inference_model_response\"\n",
    "%run inference_local.py --dataset bbbp --model falcon-7b --output_folder \"inference_model_response\"\n"
   ]
  },
  {
   "cell_type": "code",
   "execution_count": 8,
   "id": "0b6f38f4",
   "metadata": {},
   "outputs": [
    {
     "name": "stdout",
     "output_type": "stream",
     "text": [
      "Processing Step 4: Summarizing Rules\n",
      "🔹 Step 4: Summarizing Inference Rules Locally using Gemma 3:27B...\n",
      "✅ Loaded 3 inferred rules from inference_model_response\\falcon-7b\\bbbp\\falcon-7b_inference_response.txt\n",
      "✅ Summarized rules:\n",
      "## Summary of Inference Rules:\n",
      "\n",
      "These rules establish a strong correlation between atomic composition and the probability of a molecule being BBBP (likely a specific chemical compound). The core finding is that **a molecule is highly likely to be BBBP if it contains a greater number of either Bisphenol (B) *or* Carbon (C) atoms compared to Oxygen (O) atoms.**\n",
      "\n",
      "**Refined List of Rules:**\n",
      "\n",
      "1. **If the number of Bisphenol (B) atoms > number of Oxygen (O) atoms, then P(BBBP) > 0.9.**\n",
      "2. **If the number of Carbon (C) atoms > number of Oxygen (O) atoms, then P(BBBP) > 0.9.**\n",
      "\n",
      "**Rationale for Consolidation:**\n",
      "\n",
      "Rules 1 & 2 were originally presented as separate conditions based on different elements. However, both demonstrate the *same principle*: a surplus of either B or C relative to O strongly suggests the molecule is BBBP.  The original rules were redundant and have been streamlined for clarity and conciseness.\n",
      "\n",
      "\n",
      "\n",
      "\n",
      "✅ Summarization completed! Results saved to: summarized_inference_rules\\falcon-7b\\bbbp\\falcon-7b_summarized_rules.txt\n",
      "Summarization/Time elapsed: 162.59372186660767 seconds\n"
     ]
    }
   ],
   "source": [
    "# **Step 4:** Summarizing inference rules using GPT-4\n",
    "print(\"Processing Step 4: Summarizing Rules\")\n",
    "# API_KEY = \"\"  # Set your OpenAI API Key before running\n",
    "# %run summarize_rules.py --input_model_folder falcon-7b --dataset bbbp --subtask \"\" --list_num 30 --api_key $API_KEY --output_folder \"summarized_inference_rules\"\n",
    "\n",
    "%run summarize_rules_local.py --input_model_folder falcon-7b --dataset bbbp --output_folder \"summarized_inference_rules\"\n"
   ]
  },
  {
   "cell_type": "code",
   "execution_count": 17,
   "id": "fc9397c4",
   "metadata": {},
   "outputs": [
    {
     "name": "stdout",
     "output_type": "stream",
     "text": [
      "Processing Step 5: Interpretable Model Training and Evaluation\n",
      "number of generated functions:  20\n"
     ]
    },
    {
     "name": "stderr",
     "output_type": "stream",
     "text": [
      "[17:47:39] WARNING: not removing hydrogen atom without neighbors\n",
      "[17:47:39] WARNING: not removing hydrogen atom without neighbors\n",
      "[17:47:39] WARNING: not removing hydrogen atom without neighbors\n",
      "[17:47:39] WARNING: not removing hydrogen atom without neighbors\n",
      "[17:47:40] WARNING: not removing hydrogen atom without neighbors\n",
      "[17:47:40] WARNING: not removing hydrogen atom without neighbors\n",
      "[17:47:40] WARNING: not removing hydrogen atom without neighbors\n",
      "[17:47:40] WARNING: not removing hydrogen atom without neighbors\n",
      "[17:47:40] WARNING: not removing hydrogen atom without neighbors\n",
      "[17:47:40] WARNING: not removing hydrogen atom without neighbors\n",
      "[17:47:40] WARNING: not removing hydrogen atom without neighbors\n",
      "[17:47:40] WARNING: not removing hydrogen atom without neighbors\n",
      "[17:47:40] WARNING: not removing hydrogen atom without neighbors\n",
      "[17:47:40] WARNING: not removing hydrogen atom without neighbors\n",
      "[17:47:40] WARNING: not removing hydrogen atom without neighbors\n",
      "[17:47:40] WARNING: not removing hydrogen atom without neighbors\n",
      "[17:47:40] WARNING: not removing hydrogen atom without neighbors\n",
      "[17:47:40] WARNING: not removing hydrogen atom without neighbors\n",
      "[17:47:40] WARNING: not removing hydrogen atom without neighbors\n",
      "[17:47:40] WARNING: not removing hydrogen atom without neighbors\n",
      "[17:47:40] WARNING: not removing hydrogen atom without neighbors\n",
      "[17:47:41] WARNING: not removing hydrogen atom without neighbors\n",
      "[17:47:41] WARNING: not removing hydrogen atom without neighbors\n",
      "[17:47:41] WARNING: not removing hydrogen atom without neighbors\n",
      "[17:47:41] WARNING: not removing hydrogen atom without neighbors\n",
      "[17:47:41] WARNING: not removing hydrogen atom without neighbors\n",
      "[17:47:41] WARNING: not removing hydrogen atom without neighbors\n",
      "[17:47:41] WARNING: not removing hydrogen atom without neighbors\n",
      "[17:47:41] WARNING: not removing hydrogen atom without neighbors\n",
      "[17:47:41] WARNING: not removing hydrogen atom without neighbors\n",
      "[17:47:41] WARNING: not removing hydrogen atom without neighbors\n",
      "[17:47:41] WARNING: not removing hydrogen atom without neighbors\n",
      "[17:47:41] WARNING: not removing hydrogen atom without neighbors\n",
      "[17:47:41] WARNING: not removing hydrogen atom without neighbors\n",
      "[17:47:41] WARNING: not removing hydrogen atom without neighbors\n",
      "[17:47:41] WARNING: not removing hydrogen atom without neighbors\n",
      "[17:47:41] WARNING: not removing hydrogen atom without neighbors\n",
      "[17:47:41] WARNING: not removing hydrogen atom without neighbors\n",
      "[17:47:41] WARNING: not removing hydrogen atom without neighbors\n",
      "[17:47:41] WARNING: not removing hydrogen atom without neighbors\n"
     ]
    },
    {
     "name": "stdout",
     "output_type": "stream",
     "text": [
      "=================================================\n",
      "Average test ROC-AUC: 0.696695250024087\n",
      "Average valid ROC-AUC: 0.9282414596273292\n",
      "Standard deviation of test ROC-AUC: 0.0022848997179353405\n",
      "Standard deviation of valid ROC-AUC: 0.0013896756459370575\n",
      "===================================================\n"
     ]
    }
   ],
   "source": [
    "# **Step 5:** Interpretable model training and evaluation\n",
    "print(\"Processing Step 5: Interpretable Model Training and Evaluation\")\n",
    "# %run code_gen_and_eval.py --dataset bbbp --subtask \"\" --model falcon-7b --knowledge_type \"synthesize\" --api_key $API_KEY --output_dir \"llm4sd_results\" --code_gen_folder \"llm4sd_code_generation\"\n",
    "%run code_gen_and_eval_local.py --dataset bbbp --subtask \"\" --model falcon-7b --knowledge_type \"synthesize\" --output_dir \"llm4sd_results\" --code_gen_folder \"llm4sd_code_generation\""
   ]
  },
  {
   "cell_type": "code",
   "execution_count": 21,
   "id": "c1fe505a",
   "metadata": {},
   "outputs": [
    {
     "name": "stdout",
     "output_type": "stream",
     "text": [
      "Error in function rule_molecular_weight: module 'rdkit.Chem.rdMolDescriptors' has no attribute 'CalcMW'\n",
      "Attempting to rectify the code...\n",
      "Error in function rule_logp: module 'rdkit.Chem.rdMolDescriptors' has no attribute 'CalcLogP'\n",
      "Attempting to rectify the code...\n",
      "Error in function rule_carbon_oxygen_ratio: 'Atom' object has no attribute 'GetAtomicMass'\n",
      "Attempting to rectify the code...\n",
      "number of generated functions:  13\n"
     ]
    },
    {
     "name": "stderr",
     "output_type": "stream",
     "text": [
      "[18:02:28] WARNING: not removing hydrogen atom without neighbors\n",
      "[18:02:28] WARNING: not removing hydrogen atom without neighbors\n",
      "[18:02:28] WARNING: not removing hydrogen atom without neighbors\n",
      "[18:02:28] WARNING: not removing hydrogen atom without neighbors\n",
      "[18:02:28] WARNING: not removing hydrogen atom without neighbors\n",
      "[18:02:28] WARNING: not removing hydrogen atom without neighbors\n",
      "[18:02:29] WARNING: not removing hydrogen atom without neighbors\n",
      "[18:02:29] WARNING: not removing hydrogen atom without neighbors\n",
      "[18:02:29] WARNING: not removing hydrogen atom without neighbors\n",
      "[18:02:29] WARNING: not removing hydrogen atom without neighbors\n",
      "[18:02:29] WARNING: not removing hydrogen atom without neighbors\n",
      "[18:02:29] WARNING: not removing hydrogen atom without neighbors\n",
      "[18:02:29] WARNING: not removing hydrogen atom without neighbors\n",
      "[18:02:30] WARNING: not removing hydrogen atom without neighbors\n",
      "[18:02:30] WARNING: not removing hydrogen atom without neighbors\n",
      "[18:02:30] WARNING: not removing hydrogen atom without neighbors\n",
      "[18:02:30] WARNING: not removing hydrogen atom without neighbors\n",
      "[18:02:30] WARNING: not removing hydrogen atom without neighbors\n",
      "[18:02:30] WARNING: not removing hydrogen atom without neighbors\n",
      "[18:02:30] WARNING: not removing hydrogen atom without neighbors\n",
      "[18:02:30] WARNING: not removing hydrogen atom without neighbors\n",
      "[18:02:30] WARNING: not removing hydrogen atom without neighbors\n",
      "[18:02:30] WARNING: not removing hydrogen atom without neighbors\n",
      "[18:02:30] WARNING: not removing hydrogen atom without neighbors\n",
      "[18:02:30] WARNING: not removing hydrogen atom without neighbors\n",
      "[18:02:30] WARNING: not removing hydrogen atom without neighbors\n",
      "[18:02:30] WARNING: not removing hydrogen atom without neighbors\n",
      "[18:02:30] WARNING: not removing hydrogen atom without neighbors\n",
      "[18:02:30] WARNING: not removing hydrogen atom without neighbors\n",
      "[18:02:30] WARNING: not removing hydrogen atom without neighbors\n",
      "[18:02:30] WARNING: not removing hydrogen atom without neighbors\n",
      "[18:02:30] WARNING: not removing hydrogen atom without neighbors\n",
      "[18:02:30] WARNING: not removing hydrogen atom without neighbors\n",
      "[18:02:30] WARNING: not removing hydrogen atom without neighbors\n",
      "[18:02:30] WARNING: not removing hydrogen atom without neighbors\n",
      "[18:02:30] WARNING: not removing hydrogen atom without neighbors\n",
      "[18:02:30] WARNING: not removing hydrogen atom without neighbors\n",
      "[18:02:31] WARNING: not removing hydrogen atom without neighbors\n",
      "[18:02:31] WARNING: not removing hydrogen atom without neighbors\n",
      "[18:02:31] WARNING: not removing hydrogen atom without neighbors\n"
     ]
    },
    {
     "name": "stdout",
     "output_type": "stream",
     "text": [
      "=================================================\n",
      "Average test ROC-AUC: 0.6887946815685518\n",
      "Average valid ROC-AUC: 0.9030473602484472\n",
      "Standard deviation of test ROC-AUC: 0.0011202961251564941\n",
      "Standard deviation of valid ROC-AUC: 0.002183078780901013\n",
      "===================================================\n"
     ]
    }
   ],
   "source": [
    "# %run code_gen_and_eval.py --dataset bbbp --subtask \"\" --model falcon-7b --knowledge_type \"inference\" --list_num 30 --api_key $API_KEY --output_dir \"llm4sd_results\" --code_gen_folder \"llm4sd_code_generation\"\n",
    "%run code_gen_and_eval_local.py --dataset bbbp --subtask \"\" --model falcon-7b --knowledge_type \"inference\" --output_dir \"llm4sd_results\" --code_gen_folder \"llm4sd_code_generation\""
   ]
  },
  {
   "cell_type": "code",
   "execution_count": 29,
   "id": "874e215b",
   "metadata": {},
   "outputs": [
    {
     "ename": "SyntaxError",
     "evalue": "unterminated triple-quoted string literal (detected at line 360) (<string>, line 359)",
     "output_type": "error",
     "traceback": [
      "\u001b[1;36m  File \u001b[1;32m<string>:359\u001b[1;36m\u001b[0m\n\u001b[1;33m    \"\"\"\u001b[0m\n\u001b[1;37m    ^\u001b[0m\n\u001b[1;31mSyntaxError\u001b[0m\u001b[1;31m:\u001b[0m unterminated triple-quoted string literal (detected at line 360)\n"
     ]
    },
    {
     "name": "stdout",
     "output_type": "stream",
     "text": [
      "Processing completed for BBBP dataset.\n"
     ]
    }
   ],
   "source": [
    "%run code_gen_and_eval_local.py --dataset bbbp --subtask \"\" --model falcon-7b --knowledge_type \"all\" --output_dir \"llm4sd_results\" --code_gen_folder \"llm4sd_code_generation\"\n",
    "print(\"Processing completed for BBBP dataset.\")"
   ]
  }
 ],
 "metadata": {
  "kernelspec": {
   "display_name": "Python 3",
   "language": "python",
   "name": "python3"
  },
  "language_info": {
   "codemirror_mode": {
    "name": "ipython",
    "version": 3
   },
   "file_extension": ".py",
   "mimetype": "text/x-python",
   "name": "python",
   "nbconvert_exporter": "python",
   "pygments_lexer": "ipython3",
   "version": "3.10.16"
  }
 },
 "nbformat": 4,
 "nbformat_minor": 5
}

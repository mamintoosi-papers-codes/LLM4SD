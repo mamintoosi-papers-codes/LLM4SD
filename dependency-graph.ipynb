{
 "cells": [
  {
   "cell_type": "code",
   "execution_count": null,
   "id": "9f7974e0",
   "metadata": {},
   "outputs": [],
   "source": []
  },
  {
   "cell_type": "code",
   "execution_count": 1,
   "id": "e23eb0e9",
   "metadata": {},
   "outputs": [
    {
     "name": "stdout",
     "output_type": "stream",
     "text": [
      "Collecting pydeps\n",
      "  Downloading pydeps-3.0.1-py3-none-any.whl.metadata (22 kB)\n",
      "Collecting stdlib_list (from pydeps)\n",
      "  Downloading stdlib_list-0.11.1-py3-none-any.whl.metadata (3.3 kB)\n",
      "Downloading pydeps-3.0.1-py3-none-any.whl (47 kB)\n",
      "Downloading stdlib_list-0.11.1-py3-none-any.whl (83 kB)\n",
      "Installing collected packages: stdlib_list, pydeps\n",
      "Successfully installed pydeps-3.0.1 stdlib_list-0.11.1\n"
     ]
    }
   ],
   "source": [
    "!pip install pydeps"
   ]
  },
  {
   "cell_type": "code",
   "execution_count": 1,
   "id": "728fb769",
   "metadata": {},
   "outputs": [
    {
     "name": "stdout",
     "output_type": "stream",
     "text": [
      "^C\n"
     ]
    }
   ],
   "source": [
    "!pydeps inference.py"
   ]
  }
 ],
 "metadata": {
  "kernelspec": {
   "display_name": "pth",
   "language": "python",
   "name": "python3"
  },
  "language_info": {
   "codemirror_mode": {
    "name": "ipython",
    "version": 3
   },
   "file_extension": ".py",
   "mimetype": "text/x-python",
   "name": "python",
   "nbconvert_exporter": "python",
   "pygments_lexer": "ipython3",
   "version": "3.10.14"
  }
 },
 "nbformat": 4,
 "nbformat_minor": 5
}
